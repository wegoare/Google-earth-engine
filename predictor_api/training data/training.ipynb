{
 "cells": [
  {
   "cell_type": "code",
   "execution_count": 23,
   "id": "95ede9d6",
   "metadata": {},
   "outputs": [],
   "source": [
    "import pandas as pd\n",
    "import numpy as np\n",
    "import joblib\n",
    "\n",
    "from sklearn.model_selection import train_test_split\n",
    "from sklearn.linear_model import LinearRegression\n",
    "from sklearn.ensemble import RandomForestRegressor\n",
    "from sklearn.svm import SVR\n",
    "from sklearn.metrics import mean_squared_error, r2_score\n",
    "from sklearn.preprocessing import OneHotEncoder, StandardScaler\n",
    "from sklearn.compose import ColumnTransformer\n",
    "from sklearn.pipeline import make_pipeline"
   ]
  },
  {
   "cell_type": "code",
   "execution_count": 24,
   "id": "3f36af87",
   "metadata": {},
   "outputs": [],
   "source": [
    "# Load and clean data\n",
    "df = pd.read_csv(\"crop_ndvi_yield_large.csv\")\n",
    "df = df.dropna(subset=['NDVI', 'Yield'])"
   ]
  },
  {
   "cell_type": "code",
   "execution_count": 25,
   "id": "20314bcb",
   "metadata": {},
   "outputs": [],
   "source": [
    "# Features and target\n",
    "X = df[['Crop_Type', 'NDVI']]\n",
    "y = df['Yield']"
   ]
  },
  {
   "cell_type": "code",
   "execution_count": 26,
   "id": "b86fcede",
   "metadata": {},
   "outputs": [],
   "source": [
    "# Preprocessing\n",
    "preprocessor = ColumnTransformer([\n",
    "    ('cat', OneHotEncoder(), ['Crop_Type']),\n",
    "    ('num', StandardScaler(), ['NDVI'])\n",
    "])"
   ]
  },
  {
   "cell_type": "code",
   "execution_count": 27,
   "id": "645ef70a",
   "metadata": {},
   "outputs": [],
   "source": [
    "# Models\n",
    "models = {\n",
    "    'Linear Regression': make_pipeline(preprocessor, LinearRegression()),\n",
    "    'Random Forest': make_pipeline(preprocessor, RandomForestRegressor(n_estimators=100, random_state=42)),\n",
    "    'Support Vector Regressor': make_pipeline(preprocessor, SVR())\n",
    "}"
   ]
  },
  {
   "cell_type": "code",
   "execution_count": 28,
   "id": "cb9405bc",
   "metadata": {},
   "outputs": [],
   "source": [
    "# Split data\n",
    "X_train, X_test, y_train, y_test = train_test_split(X, y, test_size=0.2, random_state=42)"
   ]
  },
  {
   "cell_type": "code",
   "execution_count": 29,
   "id": "98993c53",
   "metadata": {},
   "outputs": [],
   "source": [
    "# Train and evaluate\n",
    "results = []\n",
    "best_model = None\n",
    "best_r2 = -float('inf')\n",
    "\n",
    "for name, model in models.items():\n",
    "    model.fit(X_train, y_train)\n",
    "    y_pred = model.predict(X_test)\n",
    "    r2 = r2_score(y_test, y_pred)\n",
    "    \n",
    "    # Manually calculate RMSE\n",
    "    mse = mean_squared_error(y_test, y_pred)  # Mean Squared Error\n",
    "    rmse = np.sqrt(mse)  # Root Mean Squared Error\n",
    "    \n",
    "    results.append({'Model': name, 'R2 Score': round(r2, 4), 'RMSE': round(rmse, 4)})\n",
    "\n",
    "    if r2 > best_r2:\n",
    "        best_r2 = r2\n",
    "        best_model = name"
   ]
  },
  {
   "cell_type": "code",
   "execution_count": 30,
   "id": "e1b44888",
   "metadata": {},
   "outputs": [
    {
     "name": "stdout",
     "output_type": "stream",
     "text": [
      "\n",
      "Model Performance Report:\n",
      "                      Model  R2 Score    RMSE\n",
      "2  Support Vector Regressor    0.9611  0.1948\n",
      "0         Linear Regression    0.9519  0.2166\n",
      "1             Random Forest    0.9449  0.2319\n",
      "\n",
      "Best Model: Support Vector Regressor (R2: 0.961118725070321)\n"
     ]
    }
   ],
   "source": [
    "# Show report\n",
    "report_df = pd.DataFrame(results).sort_values(by='R2 Score', ascending=False)\n",
    "print(\"\\nModel Performance Report:\")\n",
    "print(report_df)\n",
    "\n",
    "print(f\"\\nBest Model: {best_model} (R2: {best_r2})\")"
   ]
  },
  {
   "cell_type": "code",
   "execution_count": 31,
   "id": "37ff7934",
   "metadata": {},
   "outputs": [
    {
     "name": "stdout",
     "output_type": "stream",
     "text": [
      "Model saved as crop_yield_predictor.pkl\n"
     ]
    }
   ],
   "source": [
    "# Save best model\n",
    "best_pipeline = models[best_model]\n",
    "joblib.dump(best_pipeline, 'crop_yield_predictor.pkl')\n",
    "print(\"Model saved as crop_yield_predictor.pkl\")"
   ]
  }
 ],
 "metadata": {
  "kernelspec": {
   "display_name": "Python 3",
   "language": "python",
   "name": "python3"
  },
  "language_info": {
   "codemirror_mode": {
    "name": "ipython",
    "version": 3
   },
   "file_extension": ".py",
   "mimetype": "text/x-python",
   "name": "python",
   "nbconvert_exporter": "python",
   "pygments_lexer": "ipython3",
   "version": "3.11.1"
  }
 },
 "nbformat": 4,
 "nbformat_minor": 5
}
